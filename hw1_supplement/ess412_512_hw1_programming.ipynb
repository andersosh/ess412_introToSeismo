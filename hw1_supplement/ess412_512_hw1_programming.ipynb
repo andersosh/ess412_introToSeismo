{
 "cells": [
  {
   "cell_type": "markdown",
   "metadata": {},
   "source": [
    "# Intro to Seismology: Programming for Homework 1\n",
    "## Name: "
   ]
  },
  {
   "cell_type": "code",
   "execution_count": 1,
   "metadata": {},
   "outputs": [],
   "source": [
    "# import necessary modules\n",
    "from numpy import sqrt\n",
    "from pandas import read_csv\n",
    "import os\n",
    "import matplotlib.pyplot as plt\n",
    "%matplotlib inline"
   ]
  },
  {
   "cell_type": "markdown",
   "metadata": {},
   "source": [
    "# Question 1:\n",
    "\n",
    "From the homework you expressed the Lame parameters in terms of the compressional velocity, $\\alpha$, \n",
    "shear velocity, $\\beta$, and density, $\\rho$ so that the shear modulus is given by\n",
    "$$\n",
    "   \\mu = \\rho \\beta^2\n",
    "$$\n",
    "and the $\\lambda$ Lame parameter is given by \n",
    "$$  \n",
    "  \\lambda = \\rho (\\alpha^2 - 2 \\beta^2)\n",
    "$$\n",
    "\n",
    "Complete the following function which takes as input the $\\alpha$, $\\beta$, and $\\rho$ and returns $\\lambda$ and $\\mu$.  The necessary calculations can be performed in two lines of code."
   ]
  },
  {
   "cell_type": "code",
   "execution_count": 2,
   "metadata": {},
   "outputs": [],
   "source": [
    "def convert_vpVsDensity_to_lambdaMu(vp, vs, rho):\n",
    "    \"\"\"\n",
    "    Computes the Lame parameters, lambda and mu, from the compressional \n",
    "    velocity, shear velocity, and density.\n",
    "    \n",
    "    Parameters\n",
    "    ----------\n",
    "    vp : array_like\n",
    "        The compressional velocity in m/s.\n",
    "    vs : array_like\n",
    "        The shear velocity in m/s.\n",
    "    rho : array_like\n",
    "        The density in kg/m^3.\n",
    "        \n",
    "    Returns\n",
    "    -------\n",
    "    lam : array_like\n",
    "       The lambda Lame parameter in Pa.\n",
    "    mu : array_like\n",
    "       The shear modulus Lame parameter in Pa.\n",
    "    \"\"\"\n",
    "    mu =  # Put your code here\n",
    "    lam = # Put your code here\n",
    "    return lam, mu"
   ]
  },
  {
   "cell_type": "markdown",
   "metadata": {},
   "source": [
    "## Unit Tests\n",
    "\n",
    "As you become a better, and busier, programmer you will want to reuse your functions.  Unit (regression) tests are an excellent way to verify that your code is correct despite modifications by yourself or others.  In fact, automated test frameworks can run your unit tests for you and verify the correctness of large software packages.  These utilities are especially important when working in teams on a project.\n",
    "\n",
    "To test your function run the following unit test.  The unit test simply verifies that you have correctly implemented the inverse operation to Shearer's Equations 2.34 and 2.35.  Hence, you should be able to go back and forth seamlessly down to numerical precision.  If the following code throws an error then there is a mistake in your code.  \n",
    "\n",
    "Pro tip: Scientific code can evolve rapidly therefore bugs can quickly be introduced.  Unit tests are a great way to ensure code correctness."
   ]
  },
  {
   "cell_type": "code",
   "execution_count": 3,
   "metadata": {},
   "outputs": [
    {
     "name": "stdout",
     "output_type": "stream",
     "text": [
      "Passed unit test!\n"
     ]
    }
   ],
   "source": [
    "# This is a unit test to verify that your code works\n",
    "def unit_test():\n",
    "    mu  = 2.*10**9\n",
    "    lam = 1.5*10**9\n",
    "    rho = 2700\n",
    "    vp = sqrt((lam + 2*mu)/rho) # Shearer Eqn. 2.34\n",
    "    vs = sqrt(mu/rho)           # Shearer Eqn. 2.35\n",
    "    lam_test, mu_test = convert_vpVsDensity_to_lambdaMu(vp, vs, rho)\n",
    "    # Test that your function recovers the expect mu and lambda.  Note, however\n",
    "    # a strict equality is a bad idea.  Instead, realize that double precision\n",
    "    # arithmetic, the Python default, will yield 15-16 digits of accuracy.  Thus,\n",
    "    # we ensure that we recover the desired result to this level of precision.\n",
    "    assert(abs(lam_test - lam)/abs(lam) < 1.e-15), \"Failed lamda test\"\n",
    "    #    print(lam_test - lam)\n",
    "    assert(abs(mu_test - mu)/abs(mu) < 1.e-15), \"Failed mu test\"\n",
    "    #    print(mu_test - mu)\n",
    "    return True\n",
    "\n",
    "if (unit_test()):\n",
    "    print(\"Passed unit test!\")"
   ]
  },
  {
   "cell_type": "markdown",
   "metadata": {},
   "source": [
    "# PREM\n",
    "\n",
    "Next, test your function the Preliminary Earth Reference Model which is a 1D global earth model parameterized as a function of concentric shells.  Each shell has a given radius, density, and velocity.  \n"
   ]
  },
  {
   "cell_type": "code",
   "execution_count": 4,
   "metadata": {},
   "outputs": [],
   "source": [
    "# Load PREM\n",
    "datadir = \".\"\n",
    "prem = read_csv(os.path.join(datadir, 'PREM500.csv')) # You may have put this in a different data directory\n",
    "radius = prem['radius'].values # radius in meters\n",
    "rho = prem['density'].values # density in kg/m**3\n",
    "vp = prem['Vpv'].values # compressional velocity in meters/second\n",
    "vs = prem['Vsv'].values # shear velocity in meters/second\n",
    "dep = max(radius) - radius # convert radius to depth for ease in plotting"
   ]
  },
  {
   "cell_type": "markdown",
   "metadata": {},
   "source": [
    "# Question 2: \n",
    "\n",
    "From the PREM $V_p$, $V_s$, and $\\rho$ material properties use the function above to compute the $\\lambda$ and $\\mu$ Lame parameters.\n",
    "\n",
    "Then convert $\\lambda$ and $\\mu$ from Pa to GPa and depth from meters to kilometers."
   ]
  },
  {
   "cell_type": "code",
   "execution_count": 5,
   "metadata": {},
   "outputs": [],
   "source": [
    "# Compute lambda and mu\n",
    "[lam, mu] = convert_vpVsDensity_to_lambdaMu( )# Put your code here by finishing the function call\n",
    "lam_gpa = # put your code here\n",
    "mu_gpa  = # put your code here\n",
    "dep_km  = # put your code here"
   ]
  },
  {
   "cell_type": "markdown",
   "metadata": {},
   "source": [
    "# Plot the Result  \n",
    "\n",
    "Note that in seismology for vertical 1D profiles we typically put the independent variable, depth, on a reversed $y$ axis."
   ]
  },
  {
   "cell_type": "code",
   "execution_count": 6,
   "metadata": {},
   "outputs": [
    {
     "data": {
      "image/png": "[encoded data removed]",
      "text/plain": [
       "<Figure size 432x288 with 1 Axes>"
      ]
     },
     "metadata": {
      "needs_background": "light"
     },
     "output_type": "display_data"
    }
   ],
   "source": [
    "plt.plot(lam_gpa, dep_km, label='Lambda')\n",
    "plt.plot(mu_gpa, dep_km, label='Mu')\n",
    "plt.ylim(max(dep_km), 0)\n",
    "plt.xlabel('Lame Paremeters (GPa)')\n",
    "plt.ylabel('Depth (km)')\n",
    "plt.title(\"PREM Lame Parameters\")\n",
    "plt.legend()\n",
    "plt.grid(True)\n",
    "plt.show()"
   ]
  },
  {
   "cell_type": "markdown",
   "metadata": {},
   "source": [
    "## Question 3: \n",
    "\n",
    "### Part A: What is the resistance to shear at $4000$ km depth?  \n",
    "\n",
    "Type your answer here.\n",
    "\n",
    "### Part B: What is the corresponding shear velocity?\n",
    "\n",
    "Type your answer here.\n",
    "\n",
    "### Part C: Do compressional waves propagate in the outer core?\n",
    "\n",
    "Type your answer here."
   ]
  },
  {
   "cell_type": "markdown",
   "metadata": {},
   "source": [
    "When you are done:\n",
    "\n",
    "    1. Rename your notebook to myname_ess412_512_hw1_programming.\n",
    "    2. Save and Checkpoint your notebook.\n",
    "    3. Download your notebook as an HTML.\n",
    "    4. Submit it to Canvas."
   ]
  }
 ],
 "metadata": {
  "kernelspec": {
   "display_name": "Python 3",
   "language": "python",
   "name": "python3"
  },
  "language_info": {
   "codemirror_mode": {
    "name": "ipython",
    "version": 3
   },
   "file_extension": ".py",
   "mimetype": "text/x-python",
   "name": "python",
   "nbconvert_exporter": "python",
   "pygments_lexer": "ipython3",
   "version": "3.6.6"
  }
 },
 "nbformat": 4,
 "nbformat_minor": 2
}
