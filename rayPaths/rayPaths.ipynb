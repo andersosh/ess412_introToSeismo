{
 "cells": [
  {
   "cell_type": "markdown",
   "metadata": {},
   "source": [
    "# Ray Paths\n",
    "\n",
    "## Name:\n",
    "\n",
    "## Date: "
   ]
  },
  {
   "cell_type": "code",
   "execution_count": 1,
   "metadata": {},
   "outputs": [],
   "source": [
    "from numpy import sqrt\n",
    "from numpy import log\n",
    "from numpy import linspace\n",
    "from numpy import zeros\n",
    "from numpy import asarray\n",
    "\n",
    "def layerxt(p, h, vtop, vbottom):\n",
    "    \"\"\"\n",
    "    Calcualtes the change in position and change in time for a ray in a layer with a linear\n",
    "    velocity gradient.  This is a Python translation of Shearer's layerxt which was heavily\n",
    "    modified from a portion of Chris Chapman's WKBJ program.\n",
    "    \n",
    "    Input\n",
    "    -----\n",
    "    p : float\n",
    "        Horizontal slowness (s/km).\n",
    "    h : float\n",
    "        Layer thickness (km).\n",
    "    vtop : float\n",
    "        Velocity (km/s) at the top of the layer.\n",
    "    vbottom : float\n",
    "        Velocity (km/s) at the bottom of the layer.\n",
    "        \n",
    "    Returns\n",
    "    -------\n",
    "    dx : float\n",
    "         Range offset (km).\n",
    "    dt : float\n",
    "         Travel time change (seconds).    \n",
    "    irtr : integer\n",
    "        This is a return code that can mean:\n",
    "          -1 -> zero thickness layer.\n",
    "           0 -> ray turned above the layer.\n",
    "           1 -> ray passed through the layer.\n",
    "           2 -> ray turned in the layer and only one leg in the dx and dt is counted.\n",
    "    \n",
    "    \"\"\"\n",
    "    # Checks\n",
    "    irtr =-1\n",
    "    dx = None\n",
    "    dt = None\n",
    "    if (h < 0.0):\n",
    "        print(\"Layer thickness cannot be negative\")\n",
    "        return dx, dt, irtr\n",
    "    if (vtop <= 0.0 or vbottom <= 0.0):\n",
    "        print(\"Velocities must be positive\")\n",
    "        return dx, dt, irtr\n",
    "    # Compute slownesses\n",
    "    u1 = 1.0/vtop    # Slowness at top of layer\n",
    "    u2 = 1.0/vbottom # Slowness at bottom of layer\n",
    "    dx = 0.0\n",
    "    dt = 0.0\n",
    "    # Ray turned above this layer\n",
    "    if (p >= u1):\n",
    "        irtr = 0\n",
    "        return dx, dt, irtr\n",
    "    # Zero layer thickness\n",
    "    if (h == 0):\n",
    "        irtr = -1\n",
    "        return dx, dt, irtr\n",
    "    b = (vtop - vbottom)/h # Velocity gradient; Eqn 4.20 of Shearer\n",
    "    eta1 = sqrt(u1**2 - p**2)\n",
    "\n",
    "    # Constant velocity layer - ray must pass through\n",
    "    if (abs(b) == 0.0):\n",
    "        dx = h*p/eta1\n",
    "        dt = h*u1**2/eta1\n",
    "        irtr = 1\n",
    "        return dx, dt, irtr\n",
    "    \n",
    "    x1 = eta1/(u1*b*p) # Eqn 4.21 of Shearer\n",
    "    tau1 = (log((u1 + eta1)/p) - eta1/u1)/b # Eqn 4.22 of Shearer\n",
    "    # Ray turns within layer - no contribution to integral from bottom point\n",
    "    # Ray turned in the layer\n",
    "    if (p >= u2):\n",
    "        dx = x1\n",
    "        dtau = tau1\n",
    "        dt = dtau + p*dx\n",
    "        irtr = 2\n",
    "        return dx, dt, irtr\n",
    "\n",
    "    # Ray passed through the layer\n",
    "    irtr = 1\n",
    "    eta2 = sqrt(u2**2 - p**2)\n",
    "    x2 = eta2/(u2*b*p) # Eqn 4.21 of Shearer\n",
    "    tau2 = (log((u2 + eta2)/p) - eta2/u2)/b # Eqn 4.22 of Shearer\n",
    "\n",
    "    dx = x1 - x2\n",
    "    dtau = tau1 - tau2\n",
    "\n",
    "    dt = dtau + p*dx\n",
    "    \n",
    "    return dx, dt, irtr\n"
   ]
  },
  {
   "cell_type": "code",
   "execution_count": 95,
   "metadata": {},
   "outputs": [],
   "source": [
    "def computeXTInLayeredGradientModel(rayParameters, deps, vp, redvel = 8.0):\n",
    "    \"\"\"\n",
    "    Computes the travel-time distance in a layered model where each model\n",
    "    consists of velocity gradients.  Here, the structural models increase\n",
    "    positively with depth.\n",
    "    \n",
    "    Input\n",
    "    -----\n",
    "    rayParameters : array_like\n",
    "        Apparent slownesses (s/km)\n",
    "    deps : array_like\n",
    "        Depth to each interface (km).  Note, there are len(h) - 1 layers and each\n",
    "        layer thickness is h[layer+1] - h[layer].  \n",
    "    vp : array_like\n",
    "        Compressional velocity (km/s) at the layer interfaces.\n",
    "    redvel : float\n",
    "        Reduction velocity (km/s).  Shearer uses 8 km/s in the HW.\n",
    "    \n",
    "    Returns\n",
    "    -------\n",
    "    offset : array_like\n",
    "        The offsets in x (km), i.e, distance traveled for each ray parameter.\n",
    "    ttimes : array_like\n",
    "        The redued travel times (s) for each ray parameter.\n",
    "    \n",
    "    Copyright\n",
    "    ---------\n",
    "    Ben Baker distributed under the MIT license.\n",
    "    \n",
    "    \"\"\"\n",
    "    # Loop on ray parameters\n",
    "    xtimes = zeros(len(rayParameters))\n",
    "    ttimes = zeros(len(rayParameters))\n",
    "    for ip in range(len(rayParameters)):\n",
    "        # Loop on model depths\n",
    "        x = 0.0 # Offset\n",
    "        t = 0.0 # Travel time\n",
    "        p = rayParameters[ip] # Ray parameter\n",
    "        for depth in range(len(deps)-1):\n",
    "            h = deps[depth+1] - deps[depth]\n",
    "            vtop    = vp[depth]\n",
    "            vbottom = vp[depth+1]\n",
    "            dx, dt, irtr = layerxt(p, h, vtop, vbottom)\n",
    "            # Typically the ray continues through the layer\n",
    "            if (irtr == 1):\n",
    "                x = x + dx*2.0 # Up and downgoing leg\n",
    "                t = t + dt*2.0 # Up and downgoing leg\n",
    "            elif (irtr == 2):\n",
    "                x = x + dx*2.0 # Up and downgoing leg\n",
    "                t = t + dt*2.0 # Up and downgoing leg\n",
    "                break\n",
    "            # Ray turned in layer above - stop calculating (I should hit this)\n",
    "            if (irtr == 0):\n",
    "                break\n",
    "        # Loop on depths\n",
    "        xtimes[ip] = x # Tabulate distance\n",
    "        ttimes[ip] = t # Tabulate time\n",
    "    # Loop on ray parameters\n",
    "    #TODO - Something screwy - but x and t are negative.  I need to implement from Chapman's book\n",
    "    offset =-xtimes # Make xtimes positive\n",
    "    ttimes =-ttimes\n",
    "    if (redvel > 0.0):\n",
    "        reducedTimes = ttimes - offset/redvel # Reduce travel times with reduction velocity\n",
    "    else:\n",
    "        reducedTimes = ttimes\n",
    "    return offset, reducedTimes\n"
   ]
  },
  {
   "cell_type": "markdown",
   "metadata": {},
   "source": [
    "Compute the P-wave traveltime, $T(X)$ curve for the velocity model\n",
    "\n",
    "| Depth (km)  | $\\alpha$ (km/s) | $\\beta$ (km/s)  | $\\rho$ (g/cm^3) |\n",
    "| ----------- |-------------:| -----:|----:|\n",
    "| 0.0         | 4.50         | 2.40  | 2.0 |\n",
    "| 1.5         | 6.80         | 3.75  | 2.8 |\n",
    "| 6.0         | 7.00         | 3.85  | 2.9 |\n",
    "| 6.5         | 8.00         | 4.60  | 3.1 |\n",
    "| 10.0        | 8.10         | 4.70  | 3.1 |\n",
    "\n",
    "for $100$ ray parameters from $0.1236$ s/km to $0.2217$ s/km.  Use a reduction velocity of $8$ km/s.\n",
    "\n",
    "As a hint, your function call should look something like:\n",
    "\n",
    "    offset, ttimes = computeXTInLayeredGradientModel(rayParameters, deps, velocities, redvel)\n",
    "\n",
    "There should be about 3 to 4 lines of code and one of those lines should include linspace."
   ]
  },
  {
   "cell_type": "code",
   "execution_count": 99,
   "metadata": {},
   "outputs": [],
   "source": [
    "deps = [0.0, 1.5,  6.0,  6.5, 10.0] # Layer interfaces\n",
    "vp   = [4.5, 6.8,  7.0,  8.0, 8.1]  # Compresional velocity (km/s)\n",
    "vs   = [2.4, 3.75, 3.85, 4.6, 4.7]  # Shear velocity (km/s)\n",
    "rho  = [2.0, 2.8,  2.9,  3.1, 3.1]  # Denisty (gm/cm**3) \n",
    "redvel = 8.0  # Reduction velocity (km/s).  This trick increases resolution curve.\n",
    "pmin = 0.1236 # Minimum slowness in x (s/km)\n",
    "pmax = 0.2217 # Maximum slowness in x (s/km)\n",
    "np = 100 # Number of ray parameters\n",
    "rayParameters = linspace(pmin, pmax, np)\n",
    "offset, ttimes = computeXTInLayeredGradientModel(rayParameters, deps, vp, redvel)\n",
    "\n"
   ]
  },
  {
   "cell_type": "markdown",
   "metadata": {},
   "source": [
    "## Question\n",
    "\n",
    "Caustics are where $\\frac{dp}{dx} = \\infty$.  Given this, plot a travel-time vs. offset curve from distance $0$ to $\\max\\{offset\\}$ and identify the offsets at which the caustics are located.\n"
   ]
  },
  {
   "cell_type": "code",
   "execution_count": 106,
   "metadata": {},
   "outputs": [
    {
     "data": {
      "image/png": "[encoded data removed]",
      "text/plain": [
       "<matplotlib.figure.Figure at 0x7fa4ce290400>"
      ]
     },
     "metadata": {},
     "output_type": "display_data"
    }
   ],
   "source": [
    "import matplotlib.pyplot as plt\n",
    "plt.plot(offset, ttimes)\n",
    "plt.ylabel('label')\n",
    "plt.xlabel('label')\n",
    "plt.title('label')\n",
    "plt.xlim(0,max(offset))\n",
    "#plt.ylim(0,2.0)\n",
    "plt.xticks(linspace(0,100,11))\n",
    "plt.grid(True)\n",
    "plt.show()\n"
   ]
  },
  {
   "cell_type": "markdown",
   "metadata": {},
   "source": [
    "## Question\n",
    "\n",
    "We expect large amplitudes where rays are focused.  A way to identify an abundance of rays is to look at places where the change in ray parameter to the change in distance quickly changes to $0$ - i.e., places where the ray parameter/distance curve becomes flat.  At which distances would you expect the greatest amount of enregy to occur?  As a hint, don't pick ~72 km - though there is energy focusing here it won't be the most significant because the ray density will decrease as distance increases (this is a way to describe geometrical spreading). "
   ]
  },
  {
   "cell_type": "code",
   "execution_count": 105,
   "metadata": {},
   "outputs": [
    {
     "data": {
      "image/png": "[encoded data removed]",
      "text/plain": [
       "<matplotlib.figure.Figure at 0x7fa4ce108908>"
      ]
     },
     "metadata": {},
     "output_type": "display_data"
    }
   ],
   "source": [
    "import matplotlib.pyplot as plt\n",
    "plt.plot(offset, rayParameters)\n",
    "plt.ylabel('label')\n",
    "plt.xlabel('label')\n",
    "plt.title('label')\n",
    "plt.xlim(0,max(offset))\n",
    "#plt.ylim(0,2.0)\n",
    "plt.xticks(linspace(0,100,11))\n",
    "plt.grid(True)\n",
    "plt.show()"
   ]
  },
  {
   "cell_type": "code",
   "execution_count": null,
   "metadata": {
    "collapsed": true
   },
   "outputs": [],
   "source": []
  }
 ],
 "metadata": {
  "kernelspec": {
   "display_name": "Python 3",
   "language": "python",
   "name": "python3"
  },
  "language_info": {
   "codemirror_mode": {
    "name": "ipython",
    "version": 3
   },
   "file_extension": ".py",
   "mimetype": "text/x-python",
   "name": "python",
   "nbconvert_exporter": "python",
   "pygments_lexer": "ipython3",
   "version": "3.6.3"
  }
 },
 "nbformat": 4,
 "nbformat_minor": 2
}
